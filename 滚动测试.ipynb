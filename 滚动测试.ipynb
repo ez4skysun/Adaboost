{
 "cells": [
  {
   "cell_type": "code",
   "execution_count": 1,
   "metadata": {},
   "outputs": [],
   "source": [
    "import numpy as np\n",
    "import pandas as pd\n",
    "import matplotlib.pyplot as plt\n",
    "from adaboost import *\n",
    "# from sklearn.ensemble import AdaBoostClassifier\n",
    "# from sklearn.tree import DecisionTreeClassifier\n",
    "from sklearn.cluster import KMeans\n",
    "from sklearn.metrics import calinski_harabasz_score\n",
    "import datetime\n",
    "from joblib import Parallel, delayed\n",
    "import deepdish as dd\n",
    "import joblib\n",
    "import warnings"
   ]
  },
  {
   "cell_type": "markdown",
   "metadata": {},
   "source": [
    "因子IC统计 20天训练再加权 kmeans聚类降噪"
   ]
  },
  {
   "cell_type": "code",
   "execution_count": 2,
   "metadata": {},
   "outputs": [],
   "source": [
    "# data = scipy.io.loadmat('factorZScore.mat')\n",
    "# quantile = scipy.io.loadmat('yQuantile.mat')\n",
    "# X = pd.DataFrame(data['factorZScore'])\n",
    "# y = pd.DataFrame(quantile['yQuantile'])\n",
    "\n",
    "# X[0] = X[0].apply(lambda x:str(int(x)))\n",
    "# y[0] = y[0].apply(lambda x:str(int(x)))\n",
    "\n",
    "# X[0] = X[0].apply(lambda x:datetime.datetime(int(x[:4]),int(x[4:6]),int(x[6:8])))\n",
    "# y[0] = y[0].apply(lambda x:datetime.datetime(int(x[:4]),int(x[4:6]),int(x[6:8])))\n",
    "\n",
    "# X.pop(1)\n",
    "# y.pop(1)\n",
    "# X.set_index(0,inplace=True)\n",
    "# y.set_index(0,inplace=True)\n",
    "# y.rename(columns={2:'origin'},inplace=True)\n",
    "# positive = y.origin <= 0.3\n",
    "# negative = y.origin >= 0.8\n",
    "# y['label'] = 0\n",
    "# y.loc[positive,'label'] = 1\n",
    "# y.loc[negative,'label'] = -1\n",
    "\n",
    "# X['label'] = 0\n",
    "# X.loc[positive,'label'] = 1\n",
    "# X.loc[negative,'label'] = -1\n",
    "\n",
    "# X = X.loc[X.label != 0,:]\n",
    "# y = y.loc[y.label != 0,:]\n",
    "# X.pop('label')"
   ]
  },
  {
   "cell_type": "code",
   "execution_count": 3,
   "metadata": {},
   "outputs": [],
   "source": [
    "def get_data():\n",
    "    dict = dd.io.load('D:\\Project\\lianhai\\FactorData.h5')\n",
    "    df_list = []\n",
    "    for key in dict.keys():\n",
    "        temp = dict[key]\n",
    "        temp_df = pd.DataFrame(temp['Factor'],index=np.arange(1,41),columns=temp['StockCode'][0]).T\n",
    "        temp_df['return'] = temp['ReturnDaily'][0]\n",
    "        temp_df['date'] = key\n",
    "        df_list.append(temp_df.reset_index().rename(columns={'index':'stockcode'}))\n",
    "    return pd.concat(df_list)"
   ]
  },
  {
   "cell_type": "code",
   "execution_count": 4,
   "metadata": {},
   "outputs": [],
   "source": [
    "data = get_data()"
   ]
  },
  {
   "cell_type": "code",
   "execution_count": 5,
   "metadata": {},
   "outputs": [],
   "source": [
    "ic = data.iloc[:,1:42].corr()['return']"
   ]
  },
  {
   "cell_type": "code",
   "execution_count": 6,
   "metadata": {},
   "outputs": [],
   "source": [
    "# data.pop('stockcode')\n",
    "# data.date = data.date.apply(lambda x:datetime.datetime(int(x[:4]),int(x[4:6]),int(x[6:8])))\n",
    "# data = data.loc[data.date >= datetime.datetime(2020,4,11)]\n",
    "# data.set_index('date',inplace=True)\n",
    "# time_list = data.index.unique()\n",
    "# data['cluster'] = np.nan"
   ]
  },
  {
   "cell_type": "code",
   "execution_count": 7,
   "metadata": {},
   "outputs": [],
   "source": [
    "# for i in range(30,41):\n",
    "#     kmeans = KMeans(n_clusters=i)\n",
    "#     kmeans.fit(data.dropna(axis=1))\n",
    "#     print('i:'.format(i),calinski_harabasz_score(data.dropna(axis=1),kmeans.labels_))"
   ]
  },
  {
   "cell_type": "code",
   "execution_count": 8,
   "metadata": {},
   "outputs": [],
   "source": [
    "# for i in range(10,30):\n",
    "#     kmeans = KMeans(n_clusters=i)\n",
    "#     kmeans.fit(data.dropna(axis=1))\n",
    "#     data['cluster'] = kmeans.labels_\n",
    "#     print('i:'.format(i),calinski_harabasz_score(data.dropna(axis=1),kmeans.labels_))"
   ]
  },
  {
   "cell_type": "code",
   "execution_count": 9,
   "metadata": {},
   "outputs": [],
   "source": [
    "def process_data(data, kmeans=False):\n",
    "    # kmeans：是否根据因子值进行kmeans聚类对收益率降噪\n",
    "    # 每日前30%收益率标记为+1，每日后30%收益率标记为-1，舍弃中间40%的数据\n",
    "    # kmeans的超参数n_clusters是基于长期数据根据calinski_harabasz_score进行挑选的\n",
    "    data.date = data.date.apply(lambda x:datetime.datetime(int(x[:4]),int(x[4:6]),int(x[6:8])))\n",
    "    # 此处取了2020.4以后的数据\n",
    "    data = data.loc[data.date >= datetime.datetime(2020,4,11)]\n",
    "    data.set_index('date',inplace=True)\n",
    "    time_list = data.index.unique()\n",
    "    if kmeans:\n",
    "        data['cluster'] = np.nan\n",
    "        for time in time_list:\n",
    "            kmeans = KMeans(n_clusters=29)\n",
    "            kmeans.fit(data.loc[data.index == time].dropna(axis=1))\n",
    "            data.loc[data.index == time,'cluster'] = kmeans.labels_ + 1\n",
    "            temp = data.loc[data.index == time]\n",
    "            for c in range(1,11):\n",
    "                temp.loc[temp.cluster == c,'return'] = temp.groupby('cluster').mean().loc[c,'return']\n",
    "        data.pop('cluster')\n",
    "    data['label'] = 0\n",
    "    def do_label(x,inf,sup):\n",
    "        if x >= sup:\n",
    "            return 1\n",
    "        elif x <= inf:\n",
    "            return -1\n",
    "        else:\n",
    "            return 0\n",
    "    for date in time_list:\n",
    "        temp = data[data.index == date]\n",
    "        inf = temp['return'].quantile(0.3)\n",
    "        sup = temp['return'].quantile(0.7)\n",
    "        data.loc[data.index == date,'label'] = temp['return'].apply(lambda x :do_label(x,inf,sup))\n",
    "    return data.loc[data.label != 0,:]"
   ]
  },
  {
   "cell_type": "code",
   "execution_count": 10,
   "metadata": {},
   "outputs": [],
   "source": [
    "warnings.filterwarnings('ignore')\n",
    "data = process_data(data)"
   ]
  },
  {
   "cell_type": "code",
   "execution_count": 11,
   "metadata": {},
   "outputs": [],
   "source": [
    "X = data[np.arange(1,41)]\n",
    "y = data[['stockcode','label','return']]"
   ]
  },
  {
   "cell_type": "code",
   "execution_count": 12,
   "metadata": {},
   "outputs": [],
   "source": [
    "a = X.index.nunique()\n",
    "d = 20\n",
    "t = a // d\n",
    "k = 3"
   ]
  },
  {
   "cell_type": "code",
   "execution_count": 13,
   "metadata": {},
   "outputs": [],
   "source": [
    "# temp = X.index.unique()[-1]\n",
    "# X_temp = X.loc[X.index>=temp]\n",
    "# y_temp = y.loc[y.index>=temp]\n",
    "# x_train,x_val,y_train,y_val = train_test_split(X_temp,y_temp,test_size=0.1,random_state=0)\n",
    "# model = DtcAdaboost(max_depth=2,min_samples_split=0.1,learning_rate=.3,k=1/50,n_estimators=200,early_stop=True)\n",
    "# model.fit(x_train,y_train[['label']],y_train['return'],x_val,y_val)\n",
    "# model.plot(x_val,y_val[['label']],y_val['return'])"
   ]
  },
  {
   "cell_type": "code",
   "execution_count": 14,
   "metadata": {},
   "outputs": [],
   "source": [
    "y['pred'] = np.nan\n",
    "y['prob'] = np.nan"
   ]
  },
  {
   "cell_type": "code",
   "execution_count": 15,
   "metadata": {},
   "outputs": [],
   "source": [
    "def daily_model(X,y):\n",
    "    def subjob_func(i):\n",
    "        temp = X.index.unique()[i]\n",
    "        X_temp = X.loc[X.index==temp]\n",
    "        y_temp = y.loc[y.index==temp]\n",
    "        x_train,x_val,y_train,y_val = train_test_split(X_temp,y_temp,test_size=0.1,random_state=i)\n",
    "        model = DtcAdaboost(max_depth=2,min_samples_split=0.1,learning_rate=.3,k=0.025,n_estimators=100,early_stop=True)\n",
    "        model.fit(x_train,y_train[['label']],y_train['return'],x_val,y_val)\n",
    "        # model = AdaBoostClassifier(base_estimator=DecisionTreeClassifier(max_depth=2,min_samples_split=0.1),n_estimators=80,learning_rate=.3)\n",
    "        # model.fit(x_train,y_train[['label']])\n",
    "        return model\n",
    "    models = Parallel(n_jobs=5)(delayed(subjob_func)(i) for i in range(a))\n",
    "    return models\n",
    "def daily_factor(models,Y):\n",
    "    y = Y.copy(deep=True)\n",
    "    for i in range(0,a-d):\n",
    "        time = X.index.unique()[i+d]\n",
    "        prob_list = []\n",
    "        for j in range(d):\n",
    "            prob_list.append(models[i+j].predict_proba(X.loc[X.index==time]))\n",
    "        w = [0.95**i for i in range(d-1,-1,-1)]\n",
    "        y.loc[y.index==time,'prob'] = np.dot(np.matrix(prob_list).T,np.array(w)).tolist()[0]\n",
    "    return y\n",
    "# models = daily_model(X,y)"
   ]
  },
  {
   "cell_type": "code",
   "execution_count": 16,
   "metadata": {},
   "outputs": [],
   "source": [
    "# y1 = daily_factor(models,y)\n",
    "y1 = pd.read_csv('60_daily_factor',index_col='date')\n",
    "y1.index = pd.to_datetime(y1.index)"
   ]
  },
  {
   "cell_type": "code",
   "execution_count": 17,
   "metadata": {},
   "outputs": [],
   "source": [
    "def monthly_model_caculate(X,y):\n",
    "    def subjob_func(i):\n",
    "        time_start = X.index.unique()[i]\n",
    "        time_end = X.index.unique()[i+d-1]\n",
    "        X_temp = X.loc[(X.index>=time_start)&(X.index<=time_end)]\n",
    "        y_temp = y.loc[(y.index>=time_start)&(y.index<=time_end)]\n",
    "        x_train,x_val,y_train,y_val = train_test_split(X_temp,y_temp,test_size=0.1,random_state=i)\n",
    "        model = DtcAdaboost(max_depth=2,min_samples_split=0.1,learning_rate=.1,k=.0105,n_estimators=200,early_stop=True)\n",
    "        model.fit(x_train,y_train[['label']],y_train['return'],x_val,y_val)\n",
    "        return model\n",
    "    res = Parallel(n_jobs=5)(delayed(subjob_func)(i) for i in range(0,a-d))\n",
    "    return res\n",
    "def daily_factor_caculate(models,Y):\n",
    "    y = Y.copy(deep=True)\n",
    "    for i in range(0,a-k*d):\n",
    "        time = X.index.unique()[i+k*d]\n",
    "        prob_list = []\n",
    "        for j in range(k):\n",
    "            prob_list.append(models[i+j].predict_proba(X.loc[X.index==time]))\n",
    "        # w = [0.95**i for i in range(k-1,-1,-1)]\n",
    "        w = [1/k for _ in range(k)]\n",
    "        y.loc[X.index==time,'prob'] = np.dot(np.matrix(prob_list).T,np.array(w)).tolist()[0]\n",
    "    return y\n",
    "# models = monthly_model_caculate(X,y)\n",
    "# 保存模型\n",
    "# joblib.dump(models,'models.dat') \n",
    "# 55 mins"
   ]
  },
  {
   "cell_type": "code",
   "execution_count": 18,
   "metadata": {},
   "outputs": [],
   "source": [
    "# models = joblib.load('models.dat')"
   ]
  },
  {
   "cell_type": "code",
   "execution_count": 19,
   "metadata": {},
   "outputs": [],
   "source": [
    "# y3 = daily_factor_caculate(models,y)\n",
    "# y3.to_csv('20_3_factor')"
   ]
  },
  {
   "cell_type": "code",
   "execution_count": null,
   "metadata": {},
   "outputs": [],
   "source": [
    "y3 = pd.read_csv('20_3_factor',index_col='date')\n",
    "y3.index = pd.to_datetime(y2.index)"
   ]
  },
  {
   "cell_type": "code",
   "execution_count": 20,
   "metadata": {},
   "outputs": [],
   "source": [
    "y2 = pd.read_csv('60_monthly_factor',index_col='date')\n",
    "y2.index = pd.to_datetime(y2.index)"
   ]
  },
  {
   "cell_type": "code",
   "execution_count": 21,
   "metadata": {},
   "outputs": [],
   "source": [
    "def monthly_model_predict(x,Y):\n",
    "    X = x.copy(deep=True)\n",
    "    y = Y.copy(deep=True)\n",
    "    def subjob_func(i):\n",
    "        time_start = X.index.unique()[i]\n",
    "        time_end = X.index.unique()[i+d-1]\n",
    "        time = X.index.unique()[i+d]\n",
    "        X_temp = X.loc[(X.index>=time_start)&(X.index<=time_end)]\n",
    "        y_temp = y.loc[(y.index>=time_start)&(y.index<=time_end)]\n",
    "        x_train,x_val,y_train,y_val = train_test_split(X_temp,y_temp,test_size=0.1,random_state=i)\n",
    "        model = DtcAdaboost(max_depth=2,min_samples_split=0.1,learning_rate=.1,k=.0105,n_estimators=200,early_stop=True)\n",
    "        model.fit(x_train,y_train[['label']],y_train['return'],x_val,y_val)\n",
    "        return model.predict_proba(X.loc[X.index==time])\n",
    "    res = Parallel(n_jobs=5)(delayed(subjob_func)(i) for i in range(0,a-d))\n",
    "    for i in range(0,a-d):\n",
    "        time = X.index.unique()[i+d]\n",
    "        y.loc[X.index==time,'prob'] = res[i]\n",
    "    return y\n",
    "# y2 = monthly_model_predict(X,y)"
   ]
  },
  {
   "cell_type": "code",
   "execution_count": 22,
   "metadata": {},
   "outputs": [],
   "source": [
    "y_test_1 = y1.loc[~y1.prob.isna(),:].copy(deep=True)\n",
    "y_test_2 = y2.loc[~y2.prob.isna(),:].copy(deep=True)\n",
    "y_test_3 = y3.loc[~y3.prob.isna(),:].copy(deep=True)\n",
    "# y_test_1['pred'] = y_test_1.prob.apply(lambda x:-1 if x <= 6.415 else 1)\n",
    "y_test_1['pred'] = y_test_1.prob.apply(lambda x:-1 if x <= 9.54 else 1)\n",
    "y_test_2['pred'] = y_test_2.prob.apply(lambda x:-1 if x <= 0.5 else 1)\n",
    "y_test_3['pred'] = y_test_3.prob.apply(lambda x:-1 if x <= 0.5 else 1)"
   ]
  },
  {
   "cell_type": "code",
   "execution_count": 36,
   "metadata": {},
   "outputs": [],
   "source": [
    "y_test_1 = y_test_1.loc[y_test_1.index >= datetime.datetime(2020,7,13)]\n",
    "y_test_2 = y_test_2.loc[y_test_2.index >= datetime.datetime(2020,7,13)]"
   ]
  },
  {
   "cell_type": "code",
   "execution_count": 37,
   "metadata": {},
   "outputs": [
    {
     "data": {
      "image/png": "[encoded data removed]",
      "text/plain": [
       "<Figure size 432x288 with 1 Axes>"
      ]
     },
     "metadata": {
      "needs_background": "light"
     },
     "output_type": "display_data"
    }
   ],
   "source": [
    "plt.plot(y_test_1.resample('BM')[['return','prob']].corr(method='spearman').unstack()['return']['prob']);"
   ]
  },
  {
   "cell_type": "code",
   "execution_count": 38,
   "metadata": {},
   "outputs": [
    {
     "data": {
      "image/png": "[encoded data removed]",
      "text/plain": [
       "<Figure size 432x288 with 1 Axes>"
      ]
     },
     "metadata": {
      "needs_background": "light"
     },
     "output_type": "display_data"
    }
   ],
   "source": [
    "plt.plot(y_test_2.resample('BM')[['return','prob']].corr(method='spearman').unstack()['return']['prob']);"
   ]
  },
  {
   "cell_type": "code",
   "execution_count": 39,
   "metadata": {},
   "outputs": [
    {
     "data": {
      "image/png": "[encoded data removed]",
      "text/plain": [
       "<Figure size 432x288 with 1 Axes>"
      ]
     },
     "metadata": {
      "needs_background": "light"
     },
     "output_type": "display_data"
    }
   ],
   "source": [
    "plt.plot(y_test_3.resample('BM')[['return','prob']].corr(method='spearman').unstack()['return']['prob']);"
   ]
  },
  {
   "cell_type": "code",
   "execution_count": 40,
   "metadata": {},
   "outputs": [
    {
     "data": {
      "text/html": [
       "<div>\n",
       "<style scoped>\n",
       "    .dataframe tbody tr th:only-of-type {\n",
       "        vertical-align: middle;\n",
       "    }\n",
       "\n",
       "    .dataframe tbody tr th {\n",
       "        vertical-align: top;\n",
       "    }\n",
       "\n",
       "    .dataframe thead th {\n",
       "        text-align: right;\n",
       "    }\n",
       "</style>\n",
       "<table border=\"1\" class=\"dataframe\">\n",
       "  <thead>\n",
       "    <tr style=\"text-align: right;\">\n",
       "      <th></th>\n",
       "      <th>return</th>\n",
       "      <th>prob</th>\n",
       "    </tr>\n",
       "  </thead>\n",
       "  <tbody>\n",
       "    <tr>\n",
       "      <th>return</th>\n",
       "      <td>1.000000</td>\n",
       "      <td>0.063142</td>\n",
       "    </tr>\n",
       "    <tr>\n",
       "      <th>prob</th>\n",
       "      <td>0.063142</td>\n",
       "      <td>1.000000</td>\n",
       "    </tr>\n",
       "  </tbody>\n",
       "</table>\n",
       "</div>"
      ],
      "text/plain": [
       "          return      prob\n",
       "return  1.000000  0.063142\n",
       "prob    0.063142  1.000000"
      ]
     },
     "execution_count": 40,
     "metadata": {},
     "output_type": "execute_result"
    }
   ],
   "source": [
    "y_test_1[['return','prob']].corr(method='spearman')"
   ]
  },
  {
   "cell_type": "code",
   "execution_count": 41,
   "metadata": {},
   "outputs": [
    {
     "data": {
      "text/plain": [
       "0.06108080883243942"
      ]
     },
     "execution_count": 41,
     "metadata": {},
     "output_type": "execute_result"
    }
   ],
   "source": [
    "y_test_2[['return','prob']].corr(method='spearman').iloc[0,1]"
   ]
  },
  {
   "cell_type": "code",
   "execution_count": 42,
   "metadata": {},
   "outputs": [
    {
     "data": {
      "text/html": [
       "<div>\n",
       "<style scoped>\n",
       "    .dataframe tbody tr th:only-of-type {\n",
       "        vertical-align: middle;\n",
       "    }\n",
       "\n",
       "    .dataframe tbody tr th {\n",
       "        vertical-align: top;\n",
       "    }\n",
       "\n",
       "    .dataframe thead th {\n",
       "        text-align: right;\n",
       "    }\n",
       "</style>\n",
       "<table border=\"1\" class=\"dataframe\">\n",
       "  <thead>\n",
       "    <tr style=\"text-align: right;\">\n",
       "      <th></th>\n",
       "      <th>return</th>\n",
       "      <th>prob</th>\n",
       "    </tr>\n",
       "  </thead>\n",
       "  <tbody>\n",
       "    <tr>\n",
       "      <th>return</th>\n",
       "      <td>1.000000</td>\n",
       "      <td>0.054675</td>\n",
       "    </tr>\n",
       "    <tr>\n",
       "      <th>prob</th>\n",
       "      <td>0.054675</td>\n",
       "      <td>1.000000</td>\n",
       "    </tr>\n",
       "  </tbody>\n",
       "</table>\n",
       "</div>"
      ],
      "text/plain": [
       "          return      prob\n",
       "return  1.000000  0.054675\n",
       "prob    0.054675  1.000000"
      ]
     },
     "execution_count": 42,
     "metadata": {},
     "output_type": "execute_result"
    }
   ],
   "source": [
    "y_test_3[['return','prob']].corr(method='spearman')"
   ]
  },
  {
   "cell_type": "code",
   "execution_count": 43,
   "metadata": {},
   "outputs": [
    {
     "data": {
      "text/plain": [
       "0.5265388056215378"
      ]
     },
     "execution_count": 43,
     "metadata": {},
     "output_type": "execute_result"
    }
   ],
   "source": [
    "accuracy_score(y_true=y_test_1.label,y_pred=y_test_1.pred)"
   ]
  },
  {
   "cell_type": "code",
   "execution_count": 44,
   "metadata": {},
   "outputs": [
    {
     "data": {
      "text/plain": [
       "0.5289846769466712"
      ]
     },
     "execution_count": 44,
     "metadata": {},
     "output_type": "execute_result"
    }
   ],
   "source": [
    "accuracy_score(y_true=y_test_2.label,y_pred=y_test_2.pred)"
   ]
  },
  {
   "cell_type": "code",
   "execution_count": 45,
   "metadata": {},
   "outputs": [
    {
     "data": {
      "text/plain": [
       "0.525410619929224"
      ]
     },
     "execution_count": 45,
     "metadata": {},
     "output_type": "execute_result"
    }
   ],
   "source": [
    "accuracy_score(y_true=y_test_3.label,y_pred=y_test_3.pred)"
   ]
  },
  {
   "cell_type": "code",
   "execution_count": 46,
   "metadata": {},
   "outputs": [
    {
     "data": {
      "text/plain": [
       "array([[148869,  78044],\n",
       "       [136825,  90088]], dtype=int64)"
      ]
     },
     "execution_count": 46,
     "metadata": {},
     "output_type": "execute_result"
    }
   ],
   "source": [
    "confusion_matrix(y_true=y_test_1.label,y_pred=y_test_1.pred)"
   ]
  },
  {
   "cell_type": "code",
   "execution_count": 47,
   "metadata": {},
   "outputs": [
    {
     "data": {
      "text/plain": [
       "array([[124532, 102381],\n",
       "       [111378, 115535]], dtype=int64)"
      ]
     },
     "execution_count": 47,
     "metadata": {},
     "output_type": "execute_result"
    }
   ],
   "source": [
    "confusion_matrix(y_true=y_test_2.label,y_pred=y_test_2.pred)"
   ]
  },
  {
   "cell_type": "code",
   "execution_count": 48,
   "metadata": {},
   "outputs": [
    {
     "data": {
      "text/plain": [
       "array([[123557, 103356],\n",
       "       [112025, 114888]], dtype=int64)"
      ]
     },
     "execution_count": 48,
     "metadata": {},
     "output_type": "execute_result"
    }
   ],
   "source": [
    "confusion_matrix(y_true=y_test_3.label,y_pred=y_test_3.pred)"
   ]
  },
  {
   "cell_type": "code",
   "execution_count": 50,
   "metadata": {},
   "outputs": [
    {
     "data": {
      "text/html": [
       "<div>\n",
       "<style scoped>\n",
       "    .dataframe tbody tr th:only-of-type {\n",
       "        vertical-align: middle;\n",
       "    }\n",
       "\n",
       "    .dataframe tbody tr th {\n",
       "        vertical-align: top;\n",
       "    }\n",
       "\n",
       "    .dataframe thead th {\n",
       "        text-align: right;\n",
       "    }\n",
       "</style>\n",
       "<table border=\"1\" class=\"dataframe\">\n",
       "  <thead>\n",
       "    <tr style=\"text-align: right;\">\n",
       "      <th></th>\n",
       "      <th>stockcode</th>\n",
       "      <th>label</th>\n",
       "      <th>return</th>\n",
       "      <th>pred</th>\n",
       "      <th>prob</th>\n",
       "    </tr>\n",
       "    <tr>\n",
       "      <th>date</th>\n",
       "      <th></th>\n",
       "      <th></th>\n",
       "      <th></th>\n",
       "      <th></th>\n",
       "      <th></th>\n",
       "    </tr>\n",
       "  </thead>\n",
       "  <tbody>\n",
       "    <tr>\n",
       "      <th>2020-07-13</th>\n",
       "      <td>6.0</td>\n",
       "      <td>-1</td>\n",
       "      <td>-0.019823</td>\n",
       "      <td>-1</td>\n",
       "      <td>0.448563</td>\n",
       "    </tr>\n",
       "    <tr>\n",
       "      <th>2020-07-13</th>\n",
       "      <td>8.0</td>\n",
       "      <td>-1</td>\n",
       "      <td>-0.015115</td>\n",
       "      <td>1</td>\n",
       "      <td>0.509199</td>\n",
       "    </tr>\n",
       "    <tr>\n",
       "      <th>2020-07-13</th>\n",
       "      <td>9.0</td>\n",
       "      <td>-1</td>\n",
       "      <td>-0.046530</td>\n",
       "      <td>1</td>\n",
       "      <td>0.504889</td>\n",
       "    </tr>\n",
       "    <tr>\n",
       "      <th>2020-07-13</th>\n",
       "      <td>12.0</td>\n",
       "      <td>-1</td>\n",
       "      <td>-0.013584</td>\n",
       "      <td>-1</td>\n",
       "      <td>0.488643</td>\n",
       "    </tr>\n",
       "    <tr>\n",
       "      <th>2020-07-13</th>\n",
       "      <td>16.0</td>\n",
       "      <td>1</td>\n",
       "      <td>0.010658</td>\n",
       "      <td>-1</td>\n",
       "      <td>0.486771</td>\n",
       "    </tr>\n",
       "    <tr>\n",
       "      <th>...</th>\n",
       "      <td>...</td>\n",
       "      <td>...</td>\n",
       "      <td>...</td>\n",
       "      <td>...</td>\n",
       "      <td>...</td>\n",
       "    </tr>\n",
       "    <tr>\n",
       "      <th>2022-04-11</th>\n",
       "      <td>605365.0</td>\n",
       "      <td>-1</td>\n",
       "      <td>-0.016762</td>\n",
       "      <td>1</td>\n",
       "      <td>0.504918</td>\n",
       "    </tr>\n",
       "    <tr>\n",
       "      <th>2022-04-11</th>\n",
       "      <td>605376.0</td>\n",
       "      <td>1</td>\n",
       "      <td>0.008465</td>\n",
       "      <td>1</td>\n",
       "      <td>0.501738</td>\n",
       "    </tr>\n",
       "    <tr>\n",
       "      <th>2022-04-11</th>\n",
       "      <td>605388.0</td>\n",
       "      <td>1</td>\n",
       "      <td>0.039909</td>\n",
       "      <td>-1</td>\n",
       "      <td>0.489615</td>\n",
       "    </tr>\n",
       "    <tr>\n",
       "      <th>2022-04-11</th>\n",
       "      <td>605399.0</td>\n",
       "      <td>1</td>\n",
       "      <td>0.029098</td>\n",
       "      <td>-1</td>\n",
       "      <td>0.496172</td>\n",
       "    </tr>\n",
       "    <tr>\n",
       "      <th>2022-04-11</th>\n",
       "      <td>605499.0</td>\n",
       "      <td>1</td>\n",
       "      <td>0.048207</td>\n",
       "      <td>1</td>\n",
       "      <td>0.500363</td>\n",
       "    </tr>\n",
       "  </tbody>\n",
       "</table>\n",
       "<p>453826 rows × 5 columns</p>\n",
       "</div>"
      ],
      "text/plain": [
       "            stockcode  label    return  pred      prob\n",
       "date                                                  \n",
       "2020-07-13        6.0     -1 -0.019823    -1  0.448563\n",
       "2020-07-13        8.0     -1 -0.015115     1  0.509199\n",
       "2020-07-13        9.0     -1 -0.046530     1  0.504889\n",
       "2020-07-13       12.0     -1 -0.013584    -1  0.488643\n",
       "2020-07-13       16.0      1  0.010658    -1  0.486771\n",
       "...               ...    ...       ...   ...       ...\n",
       "2022-04-11   605365.0     -1 -0.016762     1  0.504918\n",
       "2022-04-11   605376.0      1  0.008465     1  0.501738\n",
       "2022-04-11   605388.0      1  0.039909    -1  0.489615\n",
       "2022-04-11   605399.0      1  0.029098    -1  0.496172\n",
       "2022-04-11   605499.0      1  0.048207     1  0.500363\n",
       "\n",
       "[453826 rows x 5 columns]"
      ]
     },
     "execution_count": 50,
     "metadata": {},
     "output_type": "execute_result"
    }
   ],
   "source": [
    "y_test_3"
   ]
  },
  {
   "cell_type": "markdown",
   "metadata": {},
   "source": [
    "参数选择"
   ]
  },
  {
   "cell_type": "code",
   "execution_count": null,
   "metadata": {},
   "outputs": [],
   "source": [
    "# best = 0\n",
    "# cv = pd.DataFrame(index=[0.1,0.2,0.3],columns=np.linspace(1/120,1/80,3))\n",
    "# for lr in [0.1,0.2,0.3]:\n",
    "#     for k in np.linspace(1/120,1/80,3):\n",
    "#         y['pred'] = 0\n",
    "#         def subjob_func(i):\n",
    "#             time_start = X.index.unique()[i]\n",
    "#             time_end = X.index.unique()[i+d-1]\n",
    "#             time = X.index.unique()[i+d]\n",
    "#             X_temp = X.loc[(X.index>=time_start)&(X.index<=time_end)]\n",
    "#             y_temp = y.loc[(y.index>=time_start)&(y.index<=time_end)]\n",
    "#             x_train,x_val,y_train,y_val = train_test_split(X_temp,y_temp,test_size=0.1,random_state=i)\n",
    "#             model = DtcAdaboost(max_depth=2,min_samples_split=0.1,learning_rate=lr,k=k,n_estimators=200,early_stop=True)\n",
    "#             model.fit(x_train,y_train[['label']],y_train.origin,x_val,y_val)\n",
    "#             return model.predict(X.loc[X.index==time])\n",
    "#         res = Parallel(n_jobs=5)(delayed(subjob_func)(i) for i in range(0,120-d))\n",
    "#         for i in range(0,120-d):\n",
    "#             time = X.index.unique()[i+d]\n",
    "#             y.loc[X.index==time,'pred'] = res[i]\n",
    "#         y_test = y.loc[y.pred != 0,:]\n",
    "#         ma = accuracy_score(y_true=y_test.label,y_pred=y_test.pred)\n",
    "#         cv.loc[lr,k] = ma\n",
    "#         if ma > best:\n",
    "#             best = ma\n",
    "#             print('Accuracy:{},parameters: lr={},k={}'.format(ma,lr,k),'best')\n",
    "#         else:\n",
    "#             print('Accuracy:{},parameters: lr={},k={}'.format(ma,lr,k))"
   ]
  }
 ],
 "metadata": {
  "kernelspec": {
   "display_name": "Python 3.9.12 ('base')",
   "language": "python",
   "name": "python3"
  },
  "language_info": {
   "codemirror_mode": {
    "name": "ipython",
    "version": 3
   },
   "file_extension": ".py",
   "mimetype": "text/x-python",
   "name": "python",
   "nbconvert_exporter": "python",
   "pygments_lexer": "ipython3",
   "version": "3.9.12"
  },
  "orig_nbformat": 4,
  "vscode": {
   "interpreter": {
    "hash": "5179d32cf6ec497baf3f8a3ef987cc77c5d2dc691fdde20a56316522f61a7323"
   }
  }
 },
 "nbformat": 4,
 "nbformat_minor": 2
}
